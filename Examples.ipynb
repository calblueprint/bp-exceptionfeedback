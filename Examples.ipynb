{
 "cells": [
  {
   "cell_type": "code",
   "execution_count": null,
   "id": "ed6b8ee0-85af-4bf7-a905-2b3fcfbe2de4",
   "metadata": {},
   "outputs": [],
   "source": [
    "from IPython.core.display import display, HTML, Markdown\n",
    "import numpy as np\n",
    "import json\n",
    "import d8error"
   ]
  },
  {
   "cell_type": "code",
   "execution_count": null,
   "id": "cb6d1a23-31c7-4c57-a3f4-0c37d541dab2",
   "metadata": {},
   "outputs": [],
   "source": [
    "with open(\"errorConfig.json\", \"r\") as f:\n",
    "    diction = json.load(f)\n",
    "print(json.dumps(diction, sort_keys=True, indent=5))"
   ]
  },
  {
   "cell_type": "code",
   "execution_count": null,
   "id": "bc34ba17-3315-404d-89c8-5cdaa201d405",
   "metadata": {},
   "outputs": [],
   "source": [
    "3(2)"
   ]
  },
  {
   "cell_type": "code",
   "execution_count": null,
   "id": "e111050d-72e0-4535-901b-68edcfd64bd7",
   "metadata": {},
   "outputs": [],
   "source": [
    "a = None\n",
    "a.hello"
   ]
  },
  {
   "cell_type": "code",
   "execution_count": null,
   "id": "ea5ab99d-f418-4c3b-a7e8-964ebffa3cd8",
   "metadata": {},
   "outputs": [],
   "source": [
    "data8"
   ]
  },
  {
   "cell_type": "code",
   "execution_count": null,
   "id": "daad724d-b183-4e14-bd52-c6b4fcd5def8",
   "metadata": {},
   "outputs": [],
   "source": [
    "2a"
   ]
  },
  {
   "cell_type": "code",
   "execution_count": null,
   "id": "e0b65220-e599-4818-91d5-b14eaf62f494",
   "metadata": {},
   "outputs": [],
   "source": [
    "np.aragne('HI')"
   ]
  },
  {
   "cell_type": "code",
   "execution_count": null,
   "id": "dc82d397-919c-40f0-9ebd-2285d0c243b2",
   "metadata": {},
   "outputs": [],
   "source": [
    "[2][1]"
   ]
  },
  {
   "cell_type": "code",
   "execution_count": null,
   "id": "890c3625-e661-4ab5-9591-9ced52fc678f",
   "metadata": {},
   "outputs": [],
   "source": [
    "np.hi"
   ]
  },
  {
   "cell_type": "code",
   "execution_count": null,
   "id": "335e2749-a9a7-4f93-af12-fa74caba755b",
   "metadata": {},
   "outputs": [],
   "source": [
    "Table()"
   ]
  },
  {
   "cell_type": "code",
   "execution_count": null,
   "id": "e9fadb61-6c6c-46a4-aeb6-656d77b3b2e6",
   "metadata": {},
   "outputs": [],
   "source": [
    "int(\"HI\")"
   ]
  },
  {
   "cell_type": "code",
   "execution_count": null,
   "id": "683cc281-1ee1-4ca8-9b40-4ace288fe2ce",
   "metadata": {},
   "outputs": [],
   "source": []
  },
  {
   "cell_type": "code",
   "execution_count": null,
   "id": "a1c3ab1a-8c8a-4661-9d89-8ddcc1ed9c39",
   "metadata": {},
   "outputs": [],
   "source": []
  },
  {
   "cell_type": "code",
   "execution_count": null,
   "id": "d941bac9-af16-47d8-8182-37709ef1b4f0",
   "metadata": {},
   "outputs": [],
   "source": []
  }
 ],
 "metadata": {
  "interpreter": {
   "hash": "60e8d67f1ccfac29f456b3dc5d494cc66d73f769da695c718f9180d2f50716e5"
  },
  "kernelspec": {
   "display_name": "Python 3.9.5 64-bit ('base': conda)",
   "name": "python3"
  },
  "language_info": {
   "codemirror_mode": {
    "name": "ipython",
    "version": 3
   },
   "file_extension": ".py",
   "mimetype": "text/x-python",
   "name": "python",
   "nbconvert_exporter": "python",
   "pygments_lexer": "ipython3",
   "version": "3.9.5"
  }
 },
 "nbformat": 4,
 "nbformat_minor": 5
}
