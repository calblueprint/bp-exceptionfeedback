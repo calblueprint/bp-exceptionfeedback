{
 "cells": [
  {
   "cell_type": "code",
   "execution_count": 1,
   "id": "ed6b8ee0-85af-4bf7-a905-2b3fcfbe2de4",
   "metadata": {},
   "outputs": [],
   "source": [
    "from IPython.core.display import display, HTML, Markdown\n",
    "import numpy as np\n",
    "import json\n",
    "import d8error"
   ]
  },
  {
   "cell_type": "code",
   "execution_count": 2,
   "id": "cb6d1a23-31c7-4c57-a3f4-0c37d541dab2",
   "metadata": {},
   "outputs": [
    {
     "name": "stdout",
     "output_type": "stream",
     "text": [
      "{\n",
      "     \"AttributeError\": [\n",
      "          {\n",
      "               \"module\": {\n",
      "                    \"helptext\": [\n",
      "                         \"Misspelling a method, ie: `np.arenge` instead of `np.arange`\",\n",
      "                         \"Using a method that uses a different name, i.e `np.total` instead of `np.sum`\"\n",
      "                    ]\n",
      "               }\n",
      "          },\n",
      "          {\n",
      "               \"object has no attribute\": {\n",
      "                    \"helptext\": [\n",
      "                         \"Trying to get an attribute that doesn't exist, or misspelled, i.e \\n ` a = Table().with_columns(\\\"Column 1\\\", data)` then calling `a.num_row` instead of `a.num_rows` \"\n",
      "                    ]\n",
      "               }\n",
      "          }\n",
      "     ],\n",
      "     \"IndexError\": [\n",
      "          {\n",
      "               \"out of range\": {\n",
      "                    \"helptext\": [\n",
      "                         \"Trying to index with a value larger than the size of the array. Double check that the length of the array and make sure you aren't using a number larger than that. Also don't forget python is 0-index\"\n",
      "                    ]\n",
      "               }\n",
      "          }\n",
      "     ],\n",
      "     \"NameError\": [\n",
      "          {\n",
      "               \"defined\": {\n",
      "                    \"helptext\": [\n",
      "                         \"Misspelling a variable, function, or method name \",\n",
      "                         \"Not importing required libraries, i.e not running the cell with `import numpy as np`\",\n",
      "                         \"Kernel died. You might need to re-run cells to redefine variables\"\n",
      "                    ]\n",
      "               }\n",
      "          }\n",
      "     ],\n",
      "     \"SyntaxError\": [\n",
      "          {\n",
      "               \"EOF\": {\n",
      "                    \"helptext\": [\n",
      "                         \"Having the wrong number of parenthesis or brackets\",\n",
      "                         \"Not using a colon in define statements or for loops\"\n",
      "                    ]\n",
      "               }\n",
      "          },\n",
      "          {\n",
      "               \"invalid syntax\": {\n",
      "                    \"helptext\": [\n",
      "                         \"Adding extra parenthesis\",\n",
      "                         \"Not following python define or for loop structure, not adding a colon\"\n",
      "                    ]\n",
      "               }\n",
      "          }\n",
      "     ],\n",
      "     \"TypeError\": [\n",
      "          {\n",
      "               \"unsupported operand\": {\n",
      "                    \"helptext\": [\n",
      "                         \"Using the wrong type of input, i.e `np.arange(\\\"3\\\")`\"\n",
      "                    ]\n",
      "               }\n",
      "          },\n",
      "          {\n",
      "               \"not callable\": {\n",
      "                    \"helptext\": [\n",
      "                         \"Using a variable or object that isn't a function but using it as one, i.e `3(2)`, in this case we are using 3 as a function, if you wanted to multiply you need `3*(2)`\",\n",
      "                         \"Using `tbl.columns` instead of `tbl.column`\"\n",
      "                    ]\n",
      "               }\n",
      "          },\n",
      "          {\n",
      "               \"positional arguments\": {\n",
      "                    \"helptext\": [\n",
      "                         \"Using a function that takes in a different number of arguments than provided\"\n",
      "                    ]\n",
      "               }\n",
      "          },\n",
      "          {\n",
      "               \"not supported between\": {\n",
      "                    \"helptext\": [\n",
      "                         \"Using two different incompatible object types in an operation like comparison, `3 == [3,3]`. Notice here we want to use a list and number, but this kind of operation isn't allowed, one needs to convert to array with `make_array` or review the problem specifications\"\n",
      "                    ]\n",
      "               }\n",
      "          }\n",
      "     ],\n",
      "     \"ValueError\": [\n",
      "          {\n",
      "               \"invalid\": {\n",
      "                    \"helptext\": [\n",
      "                         \"Converting something that cannot be converted, i.e `int(\\\"HELLO WORLD!!\\\")`\"\n",
      "                    ]\n",
      "               }\n",
      "          },\n",
      "          {\n",
      "               \"not in the table\": {\n",
      "                    \"helptext\": [\n",
      "                         \"Misspelling a column label, or using a column name that isn't in the table\"\n",
      "                    ]\n",
      "               }\n",
      "          }\n",
      "     ]\n",
      "}\n"
     ]
    }
   ],
   "source": [
    "with open(\"errorConfig.json\", \"r\") as f:\n",
    "    diction = json.load(f)\n",
    "print(json.dumps(diction, sort_keys=True, indent=5))"
   ]
  },
  {
   "cell_type": "code",
   "execution_count": 3,
   "id": "bc34ba17-3315-404d-89c8-5cdaa201d405",
   "metadata": {},
   "outputs": [
    {
     "name": "stderr",
     "output_type": "stream",
     "text": [
      "<>:1: SyntaxWarning: 'int' object is not callable; perhaps you missed a comma?\n",
      "<>:1: SyntaxWarning: 'int' object is not callable; perhaps you missed a comma?\n",
      "C:\\Users\\Selene\\AppData\\Local\\Temp/ipykernel_25132/305253956.py:1: SyntaxWarning: 'int' object is not callable; perhaps you missed a comma?\n",
      "  3(2)\n"
     ]
    },
    {
     "data": {
      "text/markdown": [
       "## **Uh-o it seems we have an error!**"
      ],
      "text/plain": [
       "<IPython.core.display.Markdown object>"
      ]
     },
     "metadata": {},
     "output_type": "display_data"
    },
    {
     "data": {
      "text/markdown": [
       "It seems we have a TypeError. TypeErrors are usually because of:"
      ],
      "text/plain": [
       "<IPython.core.display.Markdown object>"
      ]
     },
     "metadata": {},
     "output_type": "display_data"
    },
    {
     "data": {
      "text/markdown": [
       "1. Using a variable or object that isn't a function but using it as one, i.e `3(2)`, in this case we are using 3 as a function, if you wanted to multiply you need `3*(2)`"
      ],
      "text/plain": [
       "<IPython.core.display.Markdown object>"
      ]
     },
     "metadata": {},
     "output_type": "display_data"
    },
    {
     "data": {
      "text/markdown": [
       "2. Using `tbl.columns` instead of `tbl.column`"
      ],
      "text/plain": [
       "<IPython.core.display.Markdown object>"
      ]
     },
     "metadata": {},
     "output_type": "display_data"
    },
    {
     "data": {
      "text/markdown": [
       "The Data 8 Reference might be helpful to look over for examples and usage: [Data 8 Reference](http://data8.org/fa21/python-reference.html)"
      ],
      "text/plain": [
       "<IPython.core.display.Markdown object>"
      ]
     },
     "metadata": {},
     "output_type": "display_data"
    },
    {
     "data": {
      "text/markdown": [
       "If you are having more trouble please feel free to consult a staff member at [Office Hours](https://oh.data8.org)                        \n",
       " or see the error message below "
      ],
      "text/plain": [
       "<IPython.core.display.Markdown object>"
      ]
     },
     "metadata": {},
     "output_type": "display_data"
    },
    {
     "data": {
      "text/markdown": [
       "Please fill this quick survey to help us improve the the error feedback [Data 8 Error Feedback Survey](https://forms.gle/6UZQjwZmAxVDMsBR6)"
      ],
      "text/plain": [
       "<IPython.core.display.Markdown object>"
      ]
     },
     "metadata": {},
     "output_type": "display_data"
    },
    {
     "data": {
      "application/vnd.jupyter.widget-view+json": {
       "model_id": "19356ad6381d41aeb94aadfd0ac1e52d",
       "version_major": 2,
       "version_minor": 0
      },
      "text/plain": [
       "Accordion(children=(VBox(children=(Label(value='Was this feedback helpful?'), Dropdown(options=(('', -1), ('Ex…"
      ]
     },
     "metadata": {},
     "output_type": "display_data"
    },
    {
     "ename": "TypeError",
     "evalue": "'int' object is not callable",
     "output_type": "error",
     "traceback": [
      "\u001b[1;31m---------------------------------------------------------------------------\u001b[0m",
      "\u001b[1;31mTypeError\u001b[0m                                 Traceback (most recent call last)",
      "\u001b[1;32m~\\AppData\\Local\\Temp/ipykernel_25132/305253956.py\u001b[0m in \u001b[0;36m<module>\u001b[1;34m\u001b[0m\n\u001b[1;32m----> 1\u001b[1;33m \u001b[1;36m3\u001b[0m\u001b[1;33m(\u001b[0m\u001b[1;36m2\u001b[0m\u001b[1;33m)\u001b[0m\u001b[1;33m\u001b[0m\u001b[1;33m\u001b[0m\u001b[0m\n\u001b[0m",
      "\u001b[1;31mTypeError\u001b[0m: 'int' object is not callable"
     ]
    }
   ],
   "source": [
    "3(2)"
   ]
  },
  {
   "cell_type": "code",
   "execution_count": null,
   "id": "e111050d-72e0-4535-901b-68edcfd64bd7",
   "metadata": {},
   "outputs": [],
   "source": [
    "a = None\n",
    "a.hello"
   ]
  },
  {
   "cell_type": "code",
   "execution_count": null,
   "id": "ea5ab99d-f418-4c3b-a7e8-964ebffa3cd8",
   "metadata": {},
   "outputs": [],
   "source": [
    "data8"
   ]
  },
  {
   "cell_type": "code",
   "execution_count": null,
   "id": "daad724d-b183-4e14-bd52-c6b4fcd5def8",
   "metadata": {},
   "outputs": [],
   "source": [
    "2a"
   ]
  },
  {
   "cell_type": "code",
   "execution_count": null,
   "id": "e0b65220-e599-4818-91d5-b14eaf62f494",
   "metadata": {},
   "outputs": [],
   "source": [
    "np.aragne('HI')"
   ]
  },
  {
   "cell_type": "code",
   "execution_count": null,
   "id": "dc82d397-919c-40f0-9ebd-2285d0c243b2",
   "metadata": {},
   "outputs": [],
   "source": [
    "[2][1]"
   ]
  },
  {
   "cell_type": "code",
   "execution_count": null,
   "id": "890c3625-e661-4ab5-9591-9ced52fc678f",
   "metadata": {},
   "outputs": [],
   "source": [
    "np.hi"
   ]
  },
  {
   "cell_type": "code",
   "execution_count": null,
   "id": "335e2749-a9a7-4f93-af12-fa74caba755b",
   "metadata": {},
   "outputs": [],
   "source": [
    "Table()"
   ]
  },
  {
   "cell_type": "code",
   "execution_count": null,
   "id": "e9fadb61-6c6c-46a4-aeb6-656d77b3b2e6",
   "metadata": {},
   "outputs": [],
   "source": [
    "int(\"HI\")"
   ]
  },
  {
   "cell_type": "code",
   "execution_count": null,
   "id": "683cc281-1ee1-4ca8-9b40-4ace288fe2ce",
   "metadata": {},
   "outputs": [],
   "source": []
  },
  {
   "cell_type": "code",
   "execution_count": null,
   "id": "a1c3ab1a-8c8a-4661-9d89-8ddcc1ed9c39",
   "metadata": {},
   "outputs": [],
   "source": []
  },
  {
   "cell_type": "code",
   "execution_count": null,
   "id": "d941bac9-af16-47d8-8182-37709ef1b4f0",
   "metadata": {},
   "outputs": [],
   "source": []
  }
 ],
 "metadata": {
  "interpreter": {
   "hash": "60e8d67f1ccfac29f456b3dc5d494cc66d73f769da695c718f9180d2f50716e5"
  },
  "kernelspec": {
   "display_name": "Python 3.9.5 64-bit ('base': conda)",
   "name": "python3"
  },
  "language_info": {
   "codemirror_mode": {
    "name": "ipython",
    "version": 3
   },
   "file_extension": ".py",
   "mimetype": "text/x-python",
   "name": "python",
   "nbconvert_exporter": "python",
   "pygments_lexer": "ipython3",
   "version": "3.9.5"
  }
 },
 "nbformat": 4,
 "nbformat_minor": 5
}
